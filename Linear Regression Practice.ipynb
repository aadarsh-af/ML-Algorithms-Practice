{
 "cells": [
  {
   "cell_type": "markdown",
   "metadata": {},
   "source": [
    "# `All the necessary imports here`"
   ]
  },
  {
   "cell_type": "code",
   "execution_count": 1,
   "metadata": {},
   "outputs": [],
   "source": [
    "import numpy as np\n",
    "import pandas as pd\n",
    "from sklearn.linear_model import LinearRegression\n",
    "import matplotlib.pyplot as plt\n",
    "import seaborn as sns"
   ]
  },
  {
   "cell_type": "markdown",
   "metadata": {},
   "source": [
    "# `Creating a new dataset using NumPy`"
   ]
  },
  {
   "cell_type": "code",
   "execution_count": 2,
   "metadata": {},
   "outputs": [],
   "source": [
    "x = np.round(np.random.randint(low = 1, high = 500, size = 20), 2)\n",
    "y = np.round(np.random.randint(low = 1, high = 500, size = 20), 2)"
   ]
  },
  {
   "cell_type": "markdown",
   "metadata": {},
   "source": [
    "# `Fit the arrays into the Linear Regression skLearn Model`"
   ]
  },
  {
   "cell_type": "code",
   "execution_count": 3,
   "metadata": {},
   "outputs": [
    {
     "data": {
      "text/plain": [
       "LinearRegression()"
      ]
     },
     "execution_count": 3,
     "metadata": {},
     "output_type": "execute_result"
    }
   ],
   "source": [
    "model = LinearRegression()\n",
    "model.fit(x.reshape(-1, 1), y)  # reshape because it should have at least one feature column"
   ]
  },
  {
   "cell_type": "markdown",
   "metadata": {},
   "source": [
    "# Linear Regression Line: `y = slope*x + intercept`"
   ]
  },
  {
   "cell_type": "code",
   "execution_count": 4,
   "metadata": {},
   "outputs": [
    {
     "name": "stdout",
     "output_type": "stream",
     "text": [
      "Coefficient of determination(R2): 4.0 %\n",
      "Intercept: 239.57\n",
      "Slope: 0.19\n"
     ]
    }
   ],
   "source": [
    "r_square = model.score(x.reshape(-1, 1), y)  # co-effieicent of determination\n",
    "intercept = round(model.intercept_, 2)\n",
    "slope = round(model.coef_[0], 2)\n",
    "\n",
    "print(f\"Coefficient of determination(R2): {round(r_square, 2)*100} %\")\n",
    "print(f\"Intercept: {intercept}\")\n",
    "print(f\"Slope: {slope}\")"
   ]
  },
  {
   "cell_type": "markdown",
   "metadata": {},
   "source": [
    "# `Predicting values using Library`"
   ]
  },
  {
   "cell_type": "code",
   "execution_count": 5,
   "metadata": {},
   "outputs": [
    {
     "name": "stdout",
     "output_type": "stream",
     "text": [
      "[262.23 293.77 277.53 294.52 242.03 313.97 295.84 324.92 296.22 309.25\n",
      " 262.61 256.75 284.89 248.07 272.43 328.7  272.81 246.18 256.75 287.53]\n"
     ]
    }
   ],
   "source": [
    "y_pred = model.predict(x.reshape(-1, 1))\n",
    "predicted_values_model = np.round(y_pred.reshape(-1),2)\n",
    "print(predicted_values_model)"
   ]
  },
  {
   "cell_type": "markdown",
   "metadata": {},
   "source": [
    "# `Predicting values by equation`"
   ]
  },
  {
   "cell_type": "code",
   "execution_count": 6,
   "metadata": {},
   "outputs": [
    {
     "name": "stdout",
     "output_type": "stream",
     "text": [
      "[262.23 293.77 277.53 294.52 242.03 313.97 295.84 324.92 296.22 309.25\n",
      " 262.61 256.75 284.89 248.07 272.43 328.7  272.81 246.18 256.75 287.53]\n"
     ]
    }
   ],
   "source": [
    "y_pred = model.intercept_ + (model.coef_ * x)\n",
    "predicted_values_self = np.round(y_pred.reshape(-1),2)\n",
    "print(predicted_values_self)"
   ]
  },
  {
   "cell_type": "markdown",
   "metadata": {},
   "source": [
    "# `Linear Regression Line Plot: Matplotlib`"
   ]
  },
  {
   "cell_type": "code",
   "execution_count": 7,
   "metadata": {},
   "outputs": [
    {
     "data": {
      "text/plain": [
       "[<matplotlib.lines.Line2D at 0x1a50b74c6d0>]"
      ]
     },
     "execution_count": 7,
     "metadata": {},
     "output_type": "execute_result"
    },
    {
     "data": {
      "image/png": "[encoded data removed]",
      "text/plain": [
       "<Figure size 432x288 with 1 Axes>"
      ]
     },
     "metadata": {
      "needs_background": "light"
     },
     "output_type": "display_data"
    }
   ],
   "source": [
    "#create basic scatterplot\n",
    "plt.plot(x, y, 'o', color = 'green')\n",
    "\n",
    "#obtain m (slope) and b(intercept) of linear regression line\n",
    "m, b = np.polyfit(x, y, 1)\n",
    "\n",
    "#add linear regression line to scatterplot \n",
    "plt.plot(x, (m * x) + b, color = 'red')"
   ]
  },
  {
   "cell_type": "markdown",
   "metadata": {},
   "source": [
    "# `Linear Regression Line Plot: Seaborn`"
   ]
  },
  {
   "cell_type": "code",
   "execution_count": 8,
   "metadata": {},
   "outputs": [
    {
     "name": "stderr",
     "output_type": "stream",
     "text": [
      "C:\\Users\\Admin\\anaconda3\\lib\\site-packages\\seaborn\\_decorators.py:36: FutureWarning: Pass the following variables as keyword args: x, y. From version 0.12, the only valid positional argument will be `data`, and passing other arguments without an explicit keyword will result in an error or misinterpretation.\n",
      "  warnings.warn(\n"
     ]
    },
    {
     "data": {
      "text/plain": [
       "<AxesSubplot:>"
      ]
     },
     "execution_count": 8,
     "metadata": {},
     "output_type": "execute_result"
    },
    {
     "data": {
      "image/png": "[encoded data removed]",
      "text/plain": [
       "<Figure size 432x288 with 1 Axes>"
      ]
     },
     "metadata": {
      "needs_background": "light"
     },
     "output_type": "display_data"
    }
   ],
   "source": [
    "sns.regplot(x, y)"
   ]
  },
  {
   "cell_type": "code",
   "execution_count": null,
   "metadata": {},
   "outputs": [],
   "source": []
  },
  {
   "cell_type": "markdown",
   "metadata": {},
   "source": [
    "# `Linear Regression Line Plot using a DataFrame and Seaborn`"
   ]
  },
  {
   "cell_type": "code",
   "execution_count": 9,
   "metadata": {},
   "outputs": [
    {
     "name": "stderr",
     "output_type": "stream",
     "text": [
      "C:\\Users\\Admin\\anaconda3\\lib\\site-packages\\seaborn\\_decorators.py:36: FutureWarning: Pass the following variables as keyword args: x, y. From version 0.12, the only valid positional argument will be `data`, and passing other arguments without an explicit keyword will result in an error or misinterpretation.\n",
      "  warnings.warn(\n"
     ]
    },
    {
     "data": {
      "text/plain": [
       "(array([770.59336477, 869.61703971, 936.12002752, 698.99375804,\n",
       "        915.77394494, 837.72118896, 748.85418388, 260.95321039,\n",
       "        278.05350432, 377.2194118 , 247.22274214, 679.80982611,\n",
       "        412.77603525, 814.04947703, 354.41950038, 980.54467627,\n",
       "        634.38363471, 278.25953616,  15.89097833, 175.24376931,\n",
       "        292.93500772, 699.5424326 , 852.09062252, 709.15738216,\n",
       "        601.72224263, 450.65994451, 115.32747967, 185.74790935,\n",
       "        473.49587906,  50.76258577]),\n",
       " array([71, 68, 22, 66, 95, 73, 50, 63, 18, 66, 92, 59, 58, 71,  8, 79,  9,\n",
       "        25, 43, 28, 62, 20, 60, 34,  7, 24, 82, 14, 87, 39]))"
      ]
     },
     "execution_count": 9,
     "metadata": {},
     "output_type": "execute_result"
    },
    {
     "data": {
      "image/png": "[encoded data removed]",
      "text/plain": [
       "<Figure size 432x288 with 1 Axes>"
      ]
     },
     "metadata": {
      "needs_background": "light"
     },
     "output_type": "display_data"
    }
   ],
   "source": [
    "x = np.random.uniform(1, 1000, 30)\n",
    "y = np.random.randint(1, 100, 30)\n",
    "\n",
    "df = pd.DataFrame({'x':x, 'y':y})\n",
    "\n",
    "sns.regplot(x, np.array(df.y))\n",
    "x, y"
   ]
  },
  {
   "cell_type": "code",
   "execution_count": null,
   "metadata": {},
   "outputs": [],
   "source": []
  }
 ],
 "metadata": {
  "kernelspec": {
   "display_name": "Python 3",
   "language": "python",
   "name": "python3"
  },
  "language_info": {
   "codemirror_mode": {
    "name": "ipython",
    "version": 3
   },
   "file_extension": ".py",
   "mimetype": "text/x-python",
   "name": "python",
   "nbconvert_exporter": "python",
   "pygments_lexer": "ipython3",
   "version": "3.8.5"
  }
 },
 "nbformat": 4,
 "nbformat_minor": 4
}
